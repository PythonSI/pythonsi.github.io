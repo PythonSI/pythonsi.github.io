{
  "cells": [
    {
      "cell_type": "markdown",
      "metadata": {},
      "source": [
        "\n# Selective Inference for TransFusion Feature Selection\nTransFusion in [6] is a robust transfer learning method designed to handle covariate shift between source and target domains. This example provides the post-selection inference for the TransFusion feature selection, using framework proposed in [5].\n[5] Tam, N. V. K., My, C. H., & Duy, V. N. L. (2025). Post-Transfer Learning Statistical Inference in High-Dimensional Regression. arXiv preprint arXiv:2504.18212.\n[6] He, Z., Sun, Y., & Li, R. (2024, April). Transfusion: Covariate-shift robust transfer learning for high-dimensional regression. In International Conference on Artificial Intelligence and Statistics (pp. 703-711). PMLR.\n"
      ]
    },
    {
      "cell_type": "code",
      "execution_count": null,
      "metadata": {
        "collapsed": false
      },
      "outputs": [],
      "source": [
        "# Author: Nguyen Vu Khai Tam & Cao Huyen My\n\nfrom pythonsi import Pipeline\nfrom pythonsi.transfer_learning_hdr import TLTransFusion\nfrom pythonsi import Data\nfrom pythonsi.test_statistics import TLHDRTestStatistic\nimport numpy as np\nimport matplotlib.pyplot as plt"
      ]
    },
    {
      "cell_type": "markdown",
      "metadata": {},
      "source": [
        "## Generate data\n\n"
      ]
    },
    {
      "cell_type": "code",
      "execution_count": null,
      "metadata": {
        "collapsed": false
      },
      "outputs": [],
      "source": [
        "def generate_coef(p, s, true_beta=0.25, num_info_aux=3, num_uninfo_aux=2, gamma=0.01):\n    K = num_info_aux + num_uninfo_aux\n    beta_0 = np.concatenate([np.full(s, true_beta), np.zeros(p - s)])\n\n    Beta_S = np.tile(beta_0, (K, 1)).T\n    if s >= 0:\n        Beta_S[0, :] -= 2 * true_beta\n        for m in range(K):\n            if m < num_uninfo_aux:\n                Beta_S[:50, m] += np.random.normal(0, true_beta * gamma * 10, 50)\n            else:\n                Beta_S[:25, m] += np.random.normal(0, true_beta * gamma, 25)\n    return Beta_S, beta_0\n\n\ndef generate_data(\n    p, s, nS, nT, true_beta=0.25, num_info_aux=3, num_uninfo_aux=2, gamma=0.01\n):\n    K = num_info_aux + num_uninfo_aux\n\n    Beta_S, beta_0 = generate_coef(p, s, true_beta, num_info_aux, num_uninfo_aux, gamma)\n    Beta = np.column_stack([Beta_S[:, i] for i in range(K)] + [beta_0])\n\n    X_list = []\n    Y_list = []\n\n    cov = np.eye(p)\n    N_vec = [nS] * K + [nT]\n\n    for k in range(K + 1):\n        Xk = np.random.multivariate_normal(mean=np.zeros(p), cov=cov, size=N_vec[k])\n        true_Yk = Xk @ Beta[:, k]\n        noise = np.random.normal(0, 1, N_vec[k])\n        # noise = np.random.laplace(0, 1, N_vec[k])\n        # noise = skewnorm.rvs(a=10, loc=0, scale=1, size=N_vec[k])\n        # noise = np.random.standard_t(df=20, size=N_vec[k])\n        Yk = true_Yk + noise\n        X_list.append(Xk)\n        Y_list.append(Yk.reshape(-1, 1))\n\n    XS_list = np.array(X_list[:-1])\n    YS_list = np.array(Y_list[:-1]).reshape(-1, 1)\n    X0 = X_list[-1]\n    Y0 = Y_list[-1]\n    SigmaS_list = np.array([np.eye(nS) for _ in range(K)])\n    Sigma0 = np.eye(nT)\n\n    return XS_list, YS_list, X0, Y0, SigmaS_list, Sigma0\n\n\ndef compute_adaptive_weights(K, nS, nT):\n    ak = 8.0 * np.sqrt(nS / (K * nS + nT))\n    return [ak] * K"
      ]
    },
    {
      "cell_type": "markdown",
      "metadata": {},
      "source": [
        "## Define hyper-parameters\n\n"
      ]
    },
    {
      "cell_type": "code",
      "execution_count": null,
      "metadata": {
        "collapsed": false
      },
      "outputs": [],
      "source": [
        "p = 100\ns = 5\ntrue_beta = 1\ngamma = 0.1\nnS = 50\nnT = 50\nnum_uninfo_aux = 2\nnum_info_aux = 3\nK = num_info_aux + num_uninfo_aux\nN = nS * K + nT\nak_weights = compute_adaptive_weights(K, nS, nT)\nlambda_0 = np.sqrt(np.log(p) / N) * 4\nlambda_tilde = np.sqrt(np.log(p) / nT) * 2"
      ]
    },
    {
      "cell_type": "markdown",
      "metadata": {},
      "source": [
        "## Define pipeline\n\n"
      ]
    },
    {
      "cell_type": "code",
      "execution_count": null,
      "metadata": {
        "collapsed": false
      },
      "outputs": [],
      "source": [
        "def PTL_SI_TL() -> Pipeline:\n    XS_list = Data()\n    YS_list = Data()\n    X0 = Data()\n    Y0 = Data()\n    SigmaS_list = Data()\n    Sigma0 = Data()\n\n    transfusion = TLTransFusion(lambda_0, lambda_tilde, ak_weights)\n    active_set = transfusion.run(XS_list, YS_list, X0, Y0)\n    return Pipeline(\n        inputs=(XS_list, YS_list, X0, Y0, SigmaS_list, Sigma0),\n        output=active_set,\n        test_statistic=TLHDRTestStatistic(\n            XS_list=XS_list, YS_list=YS_list, X0=X0, Y0=Y0\n        ),\n    )\n\n\nmy_pipeline = PTL_SI_TL()"
      ]
    },
    {
      "cell_type": "markdown",
      "metadata": {},
      "source": [
        "## Run the pipeline\n\n"
      ]
    },
    {
      "cell_type": "code",
      "execution_count": null,
      "metadata": {
        "collapsed": false
      },
      "outputs": [],
      "source": [
        "XS_list, YS_list, X0, Y0, SigmaS_list, Sigma0 = generate_data(\n    p, s, nS, nT, true_beta, num_info_aux, num_uninfo_aux, gamma\n)\nselected_features, p_values = my_pipeline(\n    inputs=[XS_list, YS_list, X0, Y0], covariances=[SigmaS_list, Sigma0], verbose=True\n)\nprint(\"Selected features: \", selected_features)\nprint(\"P-values: \", p_values)"
      ]
    },
    {
      "cell_type": "markdown",
      "metadata": {},
      "source": [
        "## Plot p-values\n\n"
      ]
    },
    {
      "cell_type": "code",
      "execution_count": null,
      "metadata": {
        "collapsed": false
      },
      "outputs": [],
      "source": [
        "plt.figure()\nplt.bar(range(len(p_values)), p_values)\nplt.xlabel(\"Feature index\")\nplt.ylabel(\"P-value\")\nplt.show()"
      ]
    }
  ],
  "metadata": {
    "kernelspec": {
      "display_name": "Python 3",
      "language": "python",
      "name": "python3"
    },
    "language_info": {
      "codemirror_mode": {
        "name": "ipython",
        "version": 3
      },
      "file_extension": ".py",
      "mimetype": "text/x-python",
      "name": "python",
      "nbconvert_exporter": "python",
      "pygments_lexer": "ipython3",
      "version": "3.13.5"
    }
  },
  "nbformat": 4,
  "nbformat_minor": 0
}