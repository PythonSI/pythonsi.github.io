{
  "cells": [
    {
      "cell_type": "markdown",
      "metadata": {},
      "source": [
        "\n# SI for Feature Selection after Optimal Transport-based Domain Adaptation\n"
      ]
    },
    {
      "cell_type": "code",
      "execution_count": null,
      "metadata": {
        "collapsed": false
      },
      "outputs": [],
      "source": [
        "# Author: Tran Tuan Kiet\n\nfrom psi import Pipeline\nfrom psi.feature_selection import LassoFeatureSelection\nfrom psi import Data\nfrom psi.test_statistics import SFS_DATestStatistic\nfrom psi.domain_adaptation import OptimalTransportDA\nimport numpy as np\nimport matplotlib.pyplot as plt"
      ]
    },
    {
      "cell_type": "markdown",
      "metadata": {},
      "source": [
        "## Define the pipeline\n\n"
      ]
    },
    {
      "cell_type": "code",
      "execution_count": null,
      "metadata": {
        "collapsed": false
      },
      "outputs": [],
      "source": [
        "def SFS_DA() -> Pipeline:\n    xs = Data()\n    ys = Data() \n    \n    xt = Data()\n    yt = Data()\n    \n    OT = OptimalTransportDA()\n    x_tilde, y_tilde = OT.run(xs=xs, ys=ys, xt=xt, yt=yt)\n\n    lasso = LassoFeatureSelection(lambda_=10)\n    active_set = lasso.run(x_tilde, y_tilde)\n    return Pipeline(inputs=(xs, ys, xt, yt), output=active_set, test_statistic=SFS_DATestStatistic(xs=xs, ys=ys, xt=xt, yt=yt))\n\nmy_pipeline = SFS_DA()"
      ]
    },
    {
      "cell_type": "markdown",
      "metadata": {},
      "source": [
        "## Generate data\n\n"
      ]
    },
    {
      "cell_type": "code",
      "execution_count": null,
      "metadata": {
        "collapsed": false
      },
      "outputs": [],
      "source": [
        "def gen_data(n, p, true_beta):\n    x = np.random.normal(loc = 0, scale = 1, size = (n, p))\n    true_beta = true_beta.reshape(-1, 1)\n    \n    mu = x.dot(true_beta)\n    Sigma = np.identity(n)\n    Y = mu + np.random.normal(loc = 0, scale = 1, size = (n, 1))\n    return x, Y, Sigma\n\nxs, ys, sigma_s = gen_data(150, 5, np.asarray([0, 0, 0, 0, 0]))\nxt, yt, sigma_t = gen_data(25, 5, np.asarray([0, 0, 0, 0, 0]))"
      ]
    },
    {
      "cell_type": "markdown",
      "metadata": {},
      "source": [
        "## Run the pipeline\n\n"
      ]
    },
    {
      "cell_type": "code",
      "execution_count": null,
      "metadata": {
        "collapsed": false
      },
      "outputs": [],
      "source": [
        "selected_features, p_values = my_pipeline(inputs=[xs, ys, xt, yt], covariances=[sigma_s, sigma_t])\n\nprint(\"Selected features: \", selected_features)\nprint(\"P-values: \", p_values)"
      ]
    }
  ],
  "metadata": {
    "kernelspec": {
      "display_name": "Python 3",
      "language": "python",
      "name": "python3"
    },
    "language_info": {
      "codemirror_mode": {
        "name": "ipython",
        "version": 3
      },
      "file_extension": ".py",
      "mimetype": "text/x-python",
      "name": "python",
      "nbconvert_exporter": "python",
      "pygments_lexer": "ipython3",
      "version": "3.13.5"
    }
  },
  "nbformat": 4,
  "nbformat_minor": 0
}