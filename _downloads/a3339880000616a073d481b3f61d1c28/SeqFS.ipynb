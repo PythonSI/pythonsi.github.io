{
  "cells": [
    {
      "cell_type": "markdown",
      "metadata": {},
      "source": [
        "\n# Selective inference for Sequential Feature Selection\n"
      ]
    },
    {
      "cell_type": "code",
      "execution_count": null,
      "metadata": {
        "collapsed": false
      },
      "outputs": [],
      "source": [
        "# Author: Duong Tan Loc\n\nfrom si import Pipeline\nfrom si.feature_selection import SequentialFeatureSelection\nfrom si import Data\nfrom si.test_statistics import FSTestStatistic\nimport numpy as np\nimport matplotlib.pyplot as plt"
      ]
    },
    {
      "cell_type": "markdown",
      "metadata": {},
      "source": [
        "## Define the pipeline\n\n"
      ]
    },
    {
      "cell_type": "code",
      "execution_count": null,
      "metadata": {
        "collapsed": false
      },
      "outputs": [],
      "source": [
        "def SeqFS(k, sigma=None) -> Pipeline:\n    x = Data()\n    y = Data()\n\n    seqfs = SequentialFeatureSelection(\n        n_features_to_select=k, direction=\"forward\", criterion=None\n    )\n    active_set = seqfs.run(x, y, sigma)\n    return Pipeline(\n        inputs=(x, y), output=active_set, test_statistic=FSTestStatistic(x=x, y=y)\n    )"
      ]
    },
    {
      "cell_type": "markdown",
      "metadata": {},
      "source": [
        "## Generate data\n\n"
      ]
    },
    {
      "cell_type": "code",
      "execution_count": null,
      "metadata": {
        "collapsed": false
      },
      "outputs": [],
      "source": [
        "def gen_data(n, p, true_beta):\n    x = np.random.normal(loc=0, scale=1, size=(n, p))\n    true_beta = true_beta.reshape(-1, 1)\n\n    mu = x.dot(true_beta)\n    Sigma = np.identity(n)\n    Y = mu + np.random.normal(loc=0, scale=1, size=(n, 1))\n    return x, Y, Sigma\n\n\nx, y, sigma = gen_data(150, 5, np.asarray([0, 0, 0, 0, 0]))\nk = 2\nmy_pipeline2 = SeqFS(k, sigma=sigma)"
      ]
    },
    {
      "cell_type": "markdown",
      "metadata": {},
      "source": [
        "## Run the pipeline\n\n"
      ]
    },
    {
      "cell_type": "code",
      "execution_count": null,
      "metadata": {
        "collapsed": false
      },
      "outputs": [],
      "source": [
        "selected_features, p_values = my_pipeline2([x, y], sigma)\nprint(\"Selected features: \", selected_features)\nprint(\"P-values: \", p_values)"
      ]
    },
    {
      "cell_type": "markdown",
      "metadata": {},
      "source": [
        "Plot the p-values\n\n"
      ]
    },
    {
      "cell_type": "code",
      "execution_count": null,
      "metadata": {
        "collapsed": false
      },
      "outputs": [],
      "source": [
        "plt.figure()\nplt.bar(range(len(p_values)), p_values)\nplt.xlabel(\"Feature index\")\nplt.ylabel(\"P-value\")\nplt.ylim((0, 1.0))\nplt.show()"
      ]
    }
  ],
  "metadata": {
    "kernelspec": {
      "display_name": "Python 3",
      "language": "python",
      "name": "python3"
    },
    "language_info": {
      "codemirror_mode": {
        "name": "ipython",
        "version": 3
      },
      "file_extension": ".py",
      "mimetype": "text/x-python",
      "name": "python",
      "nbconvert_exporter": "python",
      "pygments_lexer": "ipython3",
      "version": "3.13.5"
    }
  },
  "nbformat": 4,
  "nbformat_minor": 0
}