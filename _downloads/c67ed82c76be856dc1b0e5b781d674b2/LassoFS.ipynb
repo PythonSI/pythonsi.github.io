{
  "cells": [
    {
      "cell_type": "markdown",
      "metadata": {},
      "source": [
        "\n# Selective inference for Lasso Feature Selection\nThis example shows how to perform selective inference for Lasso feature selection using the `pythonsi` library. The method is based on the work by Duy et al. (2021)[1]. \n[1] Le Duy, V. N., & Takeuchi, I. (2021, March). Parametric programming approach for more powerful and general lasso selective inference. In International conference on artificial intelligence and statistics (pp. 901-909). PMLR.\n"
      ]
    },
    {
      "cell_type": "code",
      "execution_count": null,
      "metadata": {
        "collapsed": false
      },
      "outputs": [],
      "source": [
        "# Author: Tran Tuan Kiet\n\nfrom pythonsi import Pipeline\nfrom pythonsi.feature_selection import LassoFeatureSelection\nfrom pythonsi import Data\nfrom pythonsi.test_statistics import FSTestStatistic\nimport numpy as np\nimport matplotlib.pyplot as plt"
      ]
    },
    {
      "cell_type": "markdown",
      "metadata": {},
      "source": [
        "## Define the pipeline\n\n"
      ]
    },
    {
      "cell_type": "code",
      "execution_count": null,
      "metadata": {
        "collapsed": false
      },
      "outputs": [],
      "source": [
        "def LassoFS() -> Pipeline:\n    x = Data()\n    y = Data()\n\n    lasso = LassoFeatureSelection(lambda_=10)\n    active_set = lasso.run(x, y)\n    return Pipeline(\n        inputs=(x, y), output=active_set, test_statistic=FSTestStatistic(x=x, y=y)\n    )\n\n\nmy_pipeline = LassoFS()"
      ]
    },
    {
      "cell_type": "markdown",
      "metadata": {},
      "source": [
        "## Generate data\n\n"
      ]
    },
    {
      "cell_type": "code",
      "execution_count": null,
      "metadata": {
        "collapsed": false
      },
      "outputs": [],
      "source": [
        "def gen_data(n, p, true_beta):\n    x = np.random.normal(loc=0, scale=1, size=(n, p))\n    true_beta = true_beta.reshape(-1, 1)\n\n    mu = x.dot(true_beta)\n    Sigma = np.identity(n)\n    Y = mu + np.random.normal(loc=0, scale=1, size=(n, 1))\n    return x, Y, Sigma\n\n\nx, y, sigma = gen_data(150, 5, np.asarray([0, 0, 0, 0, 0]))"
      ]
    },
    {
      "cell_type": "markdown",
      "metadata": {},
      "source": [
        "## Run the pipeline\n\n"
      ]
    },
    {
      "cell_type": "code",
      "execution_count": null,
      "metadata": {
        "collapsed": false
      },
      "outputs": [],
      "source": [
        "selected_features, p_values = my_pipeline([x, y], sigma)\nprint(\"Selected features: \", selected_features)\nprint(\"P-values: \", p_values)"
      ]
    },
    {
      "cell_type": "markdown",
      "metadata": {},
      "source": [
        "Plot the p-values\n\n"
      ]
    },
    {
      "cell_type": "code",
      "execution_count": null,
      "metadata": {
        "collapsed": false
      },
      "outputs": [],
      "source": [
        "plt.figure()\nplt.bar(range(len(p_values)), p_values)\nplt.xlabel(\"Feature index\")\nplt.ylabel(\"P-value\")\nplt.show()"
      ]
    }
  ],
  "metadata": {
    "kernelspec": {
      "display_name": "Python 3",
      "language": "python",
      "name": "python3"
    },
    "language_info": {
      "codemirror_mode": {
        "name": "ipython",
        "version": 3
      },
      "file_extension": ".py",
      "mimetype": "text/x-python",
      "name": "python",
      "nbconvert_exporter": "python",
      "pygments_lexer": "ipython3",
      "version": "3.13.5"
    }
  },
  "nbformat": 4,
  "nbformat_minor": 0
}