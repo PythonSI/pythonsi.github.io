{
  "cells": [
    {
      "cell_type": "markdown",
      "metadata": {},
      "source": [
        "\n# SI for Sequential Feature Selection after Optimal Transport-based Domain Adaptation\n"
      ]
    },
    {
      "cell_type": "code",
      "execution_count": null,
      "metadata": {
        "collapsed": false
      },
      "outputs": [],
      "source": [
        "# Author: Duong Tan Loc\n\nfrom pythonsi import Pipeline\nfrom pythonsi.feature_selection import SequentialFeatureSelection\nfrom pythonsi import Data\nfrom pythonsi.test_statistics import SFS_DATestStatistic\nfrom pythonsi.domain_adaptation import OptimalTransportDA\nimport numpy as np\nimport matplotlib.pyplot as plt"
      ]
    },
    {
      "cell_type": "markdown",
      "metadata": {},
      "source": [
        "## Define the pipeline\n\n"
      ]
    },
    {
      "cell_type": "code",
      "execution_count": null,
      "metadata": {
        "collapsed": false
      },
      "outputs": [],
      "source": [
        "def SI_SeqFS_DA(k) -> Pipeline:\n    xs = Data()\n    ys = Data()\n\n    xt = Data()\n    yt = Data()\n\n    OT = OptimalTransportDA()\n    x_tilde, y_tilde = OT.run(xs=xs, ys=ys, xt=xt, yt=yt)\n\n    seqfs = SequentialFeatureSelection(k, direction=\"forward\")\n    active_set = seqfs.run(x_tilde, y_tilde)\n    return Pipeline(\n        inputs=(xs, ys, xt, yt),\n        output=active_set,\n        test_statistic=SFS_DATestStatistic(xs=xs, ys=ys, xt=xt, yt=yt),\n    )\n\n\nmy_pipeline = SI_SeqFS_DA(3)"
      ]
    },
    {
      "cell_type": "markdown",
      "metadata": {},
      "source": [
        "## Generate data\n\n"
      ]
    },
    {
      "cell_type": "code",
      "execution_count": null,
      "metadata": {
        "collapsed": false
      },
      "outputs": [],
      "source": [
        "def gen_data(n, p, true_beta):\n    x = np.random.normal(loc=0, scale=1, size=(n, p))\n    true_beta = true_beta.reshape(-1, 1)\n\n    mu = x.dot(true_beta)\n    Sigma = np.identity(n)\n    Y = mu + np.random.normal(loc=0, scale=1, size=(n, 1))\n    return x, Y, Sigma\n\n\nxs, ys, sigma_s = gen_data(150, 5, np.asarray([0, 0, 0, 0, 0]))\nxt, yt, sigma_t = gen_data(25, 5, np.asarray([0, 0, 0, 0, 0]))"
      ]
    },
    {
      "cell_type": "markdown",
      "metadata": {},
      "source": [
        "## Run the pipeline\n\n"
      ]
    },
    {
      "cell_type": "code",
      "execution_count": null,
      "metadata": {
        "collapsed": false
      },
      "outputs": [],
      "source": [
        "selected_features, p_values = my_pipeline(\n    inputs=[xs, ys, xt, yt], covariances=[sigma_s, sigma_t]\n)\n\nprint(\"Selected features: \", selected_features)\nprint(\"P-values: \", p_values)"
      ]
    },
    {
      "cell_type": "markdown",
      "metadata": {},
      "source": [
        "Plot the p-values\n\n"
      ]
    },
    {
      "cell_type": "code",
      "execution_count": null,
      "metadata": {
        "collapsed": false
      },
      "outputs": [],
      "source": [
        "plt.figure()\nplt.bar(range(len(p_values)), p_values)\nplt.xlabel(\"Feature index\")\nplt.ylabel(\"P-value\")\nplt.show()"
      ]
    }
  ],
  "metadata": {
    "kernelspec": {
      "display_name": "Python 3",
      "language": "python",
      "name": "python3"
    },
    "language_info": {
      "codemirror_mode": {
        "name": "ipython",
        "version": 3
      },
      "file_extension": ".py",
      "mimetype": "text/x-python",
      "name": "python",
      "nbconvert_exporter": "python",
      "pygments_lexer": "ipython3",
      "version": "3.13.5"
    }
  },
  "nbformat": 4,
  "nbformat_minor": 0
}