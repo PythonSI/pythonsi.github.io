{
  "cells": [
    {
      "cell_type": "markdown",
      "metadata": {},
      "source": [
        "\n# SI for Lasso Feature Selection\n"
      ]
    },
    {
      "cell_type": "code",
      "execution_count": null,
      "metadata": {
        "collapsed": false
      },
      "outputs": [],
      "source": [
        "# Author: Tran Tuan Kiet\n\nfrom psi import Pipeline\nfrom psi.feature_selection import LassoFeatureSelection\nfrom psi import Data\nfrom psi.test_statistics import FSTestStatistic\nimport numpy as np"
      ]
    },
    {
      "cell_type": "markdown",
      "metadata": {},
      "source": [
        "## Define the pipeline\n\n"
      ]
    },
    {
      "cell_type": "code",
      "execution_count": null,
      "metadata": {
        "collapsed": false
      },
      "outputs": [],
      "source": [
        "def pipeline() -> Pipeline:\n    x = Data()\n    y = Data()\n    \n    lasso = LassoFeatureSelection(lambda_=10)\n    active_set = lasso.run(x, y)\n    return Pipeline(inputs=(x, y), output=active_set, test_statistic=FSTestStatistic(x=x, y=y))\n\nmy_pipeline = pipeline()"
      ]
    },
    {
      "cell_type": "markdown",
      "metadata": {},
      "source": [
        "## Generate data\n\n"
      ]
    },
    {
      "cell_type": "code",
      "execution_count": null,
      "metadata": {
        "collapsed": false
      },
      "outputs": [],
      "source": [
        "def gen_data(n, p, true_beta):\n    x = np.random.normal(loc = 0, scale = 1, size = (n, p))\n    true_beta = true_beta.reshape(-1, 1)\n    \n    mu = x.dot(true_beta)\n    Sigma = np.identity(n)\n    Y = mu + np.random.normal(loc = 0, scale = 1, size = (n, 1))\n    return x, Y, Sigma\n\nx, y, sigma = gen_data(150, 5, np.asarray([0, 0, 0, 0, 0]))"
      ]
    },
    {
      "cell_type": "markdown",
      "metadata": {},
      "source": [
        "## Run the pipeline\n\n"
      ]
    },
    {
      "cell_type": "code",
      "execution_count": null,
      "metadata": {
        "collapsed": false
      },
      "outputs": [],
      "source": [
        "selected_features, p_values = my_pipeline([x, y], sigma)\n\nprint(\"Selected features: \", selected_features)\nprint(\"P-values: \", p_values)"
      ]
    }
  ],
  "metadata": {
    "kernelspec": {
      "display_name": "Python 3",
      "language": "python",
      "name": "python3"
    },
    "language_info": {
      "codemirror_mode": {
        "name": "ipython",
        "version": 3
      },
      "file_extension": ".py",
      "mimetype": "text/x-python",
      "name": "python",
      "nbconvert_exporter": "python",
      "pygments_lexer": "ipython3",
      "version": "3.13.5"
    }
  },
  "nbformat": 4,
  "nbformat_minor": 0
}