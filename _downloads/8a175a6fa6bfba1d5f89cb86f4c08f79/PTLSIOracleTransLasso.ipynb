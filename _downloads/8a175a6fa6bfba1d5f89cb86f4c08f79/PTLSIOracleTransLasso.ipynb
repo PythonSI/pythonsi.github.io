{
  "cells": [
    {
      "cell_type": "markdown",
      "metadata": {},
      "source": [
        "\n# Selective inference for Oracle TransLasso Feature Selection\nThis example demonstrates how to perform selective inference for the Oracle TransLasso feature selection algorithm, as proposed in [5]. Oracle TransLasso, introduced in [4], is a transfer learning algorithm designed for high-dimensional linear regression. It leverages multiple informative source domains to improve both feature selection and prediction in the target domain. This example builds on Oracle TransLasso by incorporating a post-selection inference framework to provide statistical guarantees for the selected features.\n[4] Li, S., Cai, T. T., & Li, H. (2022). Transfer learning for high-dimensional linear regression: Prediction, estimation and minimax optimality. Journal of the Royal Statistical Society Series B: Statistical Methodology, 84(1), 149-173.\n[5] Tam, N. V. K., My, C. H., & Duy, V. N. L. (2025). Post-Transfer Learning Statistical Inference in High-Dimensional Regression. arXiv preprint arXiv:2504.18212.\n"
      ]
    },
    {
      "cell_type": "code",
      "execution_count": null,
      "metadata": {
        "collapsed": false
      },
      "outputs": [],
      "source": [
        "# Author: Nguyen Vu Khai Tam & Cao Huyen My\n\nfrom pythonsi import Pipeline\nfrom pythonsi.transfer_learning_hdr import TLOracleTransLasso\nfrom pythonsi import Data\nfrom pythonsi.test_statistics import TLHDRTestStatistic\nimport numpy as np\nimport matplotlib.pyplot as plt"
      ]
    },
    {
      "cell_type": "markdown",
      "metadata": {},
      "source": [
        "## Generate data\n\n"
      ]
    },
    {
      "cell_type": "code",
      "execution_count": null,
      "metadata": {
        "collapsed": false
      },
      "outputs": [],
      "source": [
        "def generate_coef(p, s, true_beta=0.25, num_info_aux=3, num_uninfo_aux=2, gamma=0.01):\n    K = num_info_aux + num_uninfo_aux\n    beta_0 = np.concatenate([np.full(s, true_beta), np.zeros(p - s)])\n\n    Beta_S = np.tile(beta_0, (K, 1)).T\n    if s >= 0:\n        Beta_S[0, :] -= 2 * true_beta\n        for m in range(K):\n            if m < num_uninfo_aux:\n                Beta_S[:50, m] += np.random.normal(0, true_beta * gamma * 10, 50)\n            else:\n                Beta_S[:25, m] += np.random.normal(0, true_beta * gamma, 25)\n    return Beta_S, beta_0\n\n\ndef generate_data(\n    p, s, nS, nT, true_beta=0.25, num_info_aux=3, num_uninfo_aux=2, gamma=0.01\n):\n    K = num_info_aux + num_uninfo_aux\n\n    Beta_S, beta_0 = generate_coef(p, s, true_beta, num_info_aux, num_uninfo_aux, gamma)\n    Beta = np.column_stack([Beta_S[:, i] for i in range(K)] + [beta_0])\n\n    X_list = []\n    Y_list = []\n\n    cov = np.eye(p)\n    N_vec = [nS] * K + [nT]\n\n    for k in range(K + 1):\n        Xk = np.random.multivariate_normal(mean=np.zeros(p), cov=cov, size=N_vec[k])\n        true_Yk = Xk @ Beta[:, k]\n        noise = np.random.normal(0, 1, N_vec[k])\n        # noise = np.random.laplace(0, 1, N_vec[k])\n        # noise = skewnorm.rvs(a=10, loc=0, scale=1, size=N_vec[k])\n        # noise = np.random.standard_t(df=20, size=N_vec[k])\n        Yk = true_Yk + noise\n        X_list.append(Xk)\n        Y_list.append(Yk.reshape(-1, 1))\n\n    XS_list = np.array(X_list[:-1])\n    YS_list = np.array(Y_list[:-1]).reshape(-1, 1)\n    X0 = X_list[-1]\n    Y0 = Y_list[-1]\n    SigmaS_list = np.array([np.eye(nS) for _ in range(K)])\n    Sigma0 = np.eye(nT)\n\n    return XS_list, YS_list, X0, Y0, SigmaS_list, Sigma0"
      ]
    },
    {
      "cell_type": "markdown",
      "metadata": {},
      "source": [
        "## Define hyper-parameters\n\n"
      ]
    },
    {
      "cell_type": "code",
      "execution_count": null,
      "metadata": {
        "collapsed": false
      },
      "outputs": [],
      "source": [
        "p = 100\ns = 10\ntrue_beta = 1\ngamma = 0.1\nnS = 50\nnT = 50\nnum_uninfo_aux = 0\nnum_info_aux = 5\nK = num_info_aux + num_uninfo_aux\nnI = nS * K\nlambda_w = np.sqrt(np.log(p) / nI) * 4\nlambda_del = np.sqrt(np.log(p) / nT) * 2"
      ]
    },
    {
      "cell_type": "code",
      "execution_count": null,
      "metadata": {
        "collapsed": false
      },
      "outputs": [],
      "source": [
        "def PTL_SI_OTL() -> Pipeline:\n    XI_list = Data()\n    YI_list = Data()\n    X0 = Data()\n    Y0 = Data()\n    SigmaI_list = Data()\n    Sigma0 = Data()\n\n    otl = TLOracleTransLasso(lambda_w, lambda_del)\n    active_set = otl.run(XI_list, YI_list, X0, Y0)\n    return Pipeline(\n        inputs=(XI_list, YI_list, X0, Y0, SigmaI_list, Sigma0),\n        output=active_set,\n        test_statistic=TLHDRTestStatistic(\n            XS_list=XI_list, YS_list=YI_list, X0=X0, Y0=Y0\n        ),\n    )\n\n\nmy_pipeline = PTL_SI_OTL()"
      ]
    },
    {
      "cell_type": "markdown",
      "metadata": {},
      "source": [
        "## Run the pipeline\n\n"
      ]
    },
    {
      "cell_type": "code",
      "execution_count": null,
      "metadata": {
        "collapsed": false
      },
      "outputs": [],
      "source": [
        "XI_list, YI_list, X0, Y0, SigmaI_list, Sigma0 = generate_data(\n    p, s, nS, nT, true_beta, num_info_aux, num_uninfo_aux, gamma\n)\nselected_features, p_values = my_pipeline(\n    inputs=[XI_list, YI_list, X0, Y0], covariances=[SigmaI_list, Sigma0], verbose=True\n)\nprint(\"Selected features: \", selected_features)\nprint(\"P-values: \", p_values)"
      ]
    },
    {
      "cell_type": "markdown",
      "metadata": {},
      "source": [
        "## Plot p-values\n\n"
      ]
    },
    {
      "cell_type": "code",
      "execution_count": null,
      "metadata": {
        "collapsed": false
      },
      "outputs": [],
      "source": [
        "plt.figure()\nplt.bar(range(len(p_values)), p_values)\nplt.xlabel(\"Feature index\")\nplt.ylabel(\"P-value\")\nplt.show()"
      ]
    }
  ],
  "metadata": {
    "kernelspec": {
      "display_name": "Python 3",
      "language": "python",
      "name": "python3"
    },
    "language_info": {
      "codemirror_mode": {
        "name": "ipython",
        "version": 3
      },
      "file_extension": ".py",
      "mimetype": "text/x-python",
      "name": "python",
      "nbconvert_exporter": "python",
      "pygments_lexer": "ipython3",
      "version": "3.13.5"
    }
  },
  "nbformat": 4,
  "nbformat_minor": 0
}